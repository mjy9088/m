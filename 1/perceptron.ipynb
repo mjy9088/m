{
 "cells": [
  {
   "cell_type": "markdown",
   "metadata": {},
   "source": [
    "# 퍼셉트론\n",
    "\n",
    "퍼셉트론은 다수의 신호를 입력으로 받아 하나의 신호를 출력함\n",
    "\n",
    "흐른다(1)와 안 흐른다(0)의 두가지 값을 가질 수 있음"
   ]
  },
  {
   "cell_type": "code",
   "execution_count": 1,
   "metadata": {},
   "outputs": [],
   "source": [
    "def perceptron2(w1, w2, theta):\n",
    "    def ret(x1, x2):\n",
    "        if x1 * w1 + x2 * w2 > theta:\n",
    "            return 1\n",
    "        return 0\n",
    "\n",
    "    return ret"
   ]
  },
  {
   "cell_type": "markdown",
   "metadata": {},
   "source": [
    "신호 두 개를 입력으로 받는 퍼셉트론 예시\n",
    "\n",
    "각 신호와 각 가중치(w1, w2)를 곱한 값이 임계값(theta)을 넘으면 1을 출력"
   ]
  },
  {
   "cell_type": "code",
   "execution_count": 2,
   "metadata": {},
   "outputs": [],
   "source": [
    "AND = perceptron2(5, 5, 7)\n",
    "\n",
    "AND(0, 0), AND(0, 1), AND(1, 0), AND(1, 1)"
   ]
  },
  {
   "cell_type": "code",
   "execution_count": 3,
   "metadata": {},
   "outputs": [],
   "source": [
    "OR = perceptron2(5, 5, 2)\n",
    "\n",
    "OR(0, 0), OR(0, 1), OR(1, 0), OR(1, 1)"
   ]
  },
  {
   "cell_type": "code",
   "execution_count": 4,
   "metadata": {},
   "outputs": [],
   "source": [
    "NAND = perceptron2(-5, -5, -7)\n",
    "\n",
    "NAND(0, 0), NAND(0, 1), NAND(1, 0), NAND(1, 1)"
   ]
  },
  {
   "cell_type": "markdown",
   "metadata": {},
   "source": [
    "앞으로를 위해서 임계값 theta 대신에 편향 b(bias)를 사용하기로 함"
   ]
  },
  {
   "cell_type": "code",
   "execution_count": 5,
   "metadata": {},
   "outputs": [],
   "source": [
    "import numpy as np\n",
    "\n",
    "def perceptron(bias, *weights):\n",
    "    def ret(*x):\n",
    "        if np.sum(np.array(x) * np.array(weights)) + bias > 0:\n",
    "            return 1\n",
    "        return 0\n",
    "\n",
    "    return ret"
   ]
  },
  {
   "cell_type": "code",
   "execution_count": 6,
   "metadata": {},
   "outputs": [
    {
     "data": {
      "text/plain": [
       "(0, 0, 0, 1)"
      ]
     },
     "execution_count": 6,
     "metadata": {},
     "output_type": "execute_result"
    }
   ],
   "source": [
    "AND = perceptron(-7, 5, 5)\n",
    "\n",
    "AND(0, 0), AND(0, 1), AND(1, 0), AND(1, 1)"
   ]
  },
  {
   "cell_type": "code",
   "execution_count": 7,
   "metadata": {},
   "outputs": [
    {
     "data": {
      "text/plain": [
       "(0, 1, 1, 1)"
      ]
     },
     "execution_count": 7,
     "metadata": {},
     "output_type": "execute_result"
    }
   ],
   "source": [
    "OR = perceptron(-2, 5, 5)\n",
    "\n",
    "OR(0, 0), OR(0, 1), OR(1, 0), OR(1, 1)"
   ]
  },
  {
   "cell_type": "code",
   "execution_count": 8,
   "metadata": {},
   "outputs": [
    {
     "data": {
      "text/plain": [
       "(1, 1, 1, 0)"
      ]
     },
     "execution_count": 8,
     "metadata": {},
     "output_type": "execute_result"
    }
   ],
   "source": [
    "NAND = perceptron(7, -5, -5)\n",
    "\n",
    "NAND(0, 0), NAND(0, 1), NAND(1, 0), NAND(1, 1)"
   ]
  },
  {
   "cell_type": "markdown",
   "metadata": {},
   "source": [
    "## 단층 퍼셉트론의 한계\n",
    "\n",
    "위 AND, OR, NAND같은 단층 퍼셉트론으로는 XOR을 구현할 수 없음\n",
    "\n",
    "AND, OR, NAND는 0과 1이 갈리는 경계가 선형적이지만 XOR은 그렇지 않기 때문\n",
    "\n",
    "하지만 퍼셉트론을 조합하면 가능"
   ]
  },
  {
   "cell_type": "code",
   "execution_count": 9,
   "metadata": {},
   "outputs": [],
   "source": [
    "def compose(composer, *perceptrons):\n",
    "    def ret(*x):\n",
    "        return composer(*list(map(lambda p: p(x), perceptrons)))\n",
    "\n",
    "    return ret"
   ]
  },
  {
   "cell_type": "code",
   "execution_count": 10,
   "metadata": {},
   "outputs": [
    {
     "data": {
      "text/plain": [
       "(0, 1, 1, 0)"
      ]
     },
     "execution_count": 10,
     "metadata": {},
     "output_type": "execute_result"
    }
   ],
   "source": [
    "XOR = compose(AND, OR, NAND)\n",
    "\n",
    "XOR(0, 0), XOR(0, 1), XOR(1, 0), XOR(1, 1)"
   ]
  },
  {
   "cell_type": "markdown",
   "metadata": {},
   "source": [
    "다층 퍼셉트론은 복잡한 회로를 만들 수 있음\n",
    "\n",
    "이론상 NAND 게이트만으로, 또는 2층 퍼셉트론만으로도 컴퓨터를 만들 수 있음\n",
    "\n",
    "단층 퍼셉트론은 직선형 영역만 표헌할 수 있고, 다층 퍼셉트론은 비선형 영역도 표현할 수 있음"
   ]
  },
  {
   "cell_type": "code",
   "execution_count": null,
   "metadata": {},
   "outputs": [],
   "source": []
  }
 ],
 "metadata": {
  "kernelspec": {
   "display_name": "Python 3",
   "language": "python",
   "name": "python3"
  },
  "language_info": {
   "codemirror_mode": {
    "name": "ipython",
    "version": 3
   },
   "file_extension": ".py",
   "mimetype": "text/x-python",
   "name": "python",
   "nbconvert_exporter": "python",
   "pygments_lexer": "ipython3",
   "version": "3.9.0+"
  }
 },
 "nbformat": 4,
 "nbformat_minor": 2
}
